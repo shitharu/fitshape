{
 "cells": [
  {
   "cell_type": "code",
   "execution_count": 17,
   "id": "355eaa94",
   "metadata": {},
   "outputs": [],
   "source": [
    "# Import necessary libraries\n",
    "\n",
    "import tensorflow as tf\n",
    "import os\n",
    "from tensorflow.keras.preprocessing.image import ImageDataGenerator\n",
    "from tensorflow.keras.models import Sequential\n",
    "from tensorflow.keras.layers import Dense, Conv2D, MaxPooling2D, Dropout, Flatten\n",
    "\n",
    "\n",
    "# `TensorFlow`: The main library used for building neural networks in Python.\n",
    "# ImageDataGenerator`: A class from Keras used for data augmentation and preprocessing of image data.\n",
    "# Sequential`: A class from Keras used for building a sequential model where layers are added in sequence.\n",
    "# `Dense`: A class from Keras used for adding fully connected layers to the network.\n",
    "# `Conv2D`: A class from Keras used for adding convolutional layers to the network.\n",
    "# `MaxPooling2D`: A class from Keras used for adding pooling layers to the network.\n",
    "# `Dropout`: A class from Keras used for adding regularization to the network by randomly dropping out neurons during training.\n",
    "# `Flatten`: A class from Keras used for flattening the output of convolutional and pooling layers before feeding it into a fully connected layer."
   ]
  },
  {
   "cell_type": "code",
   "execution_count": 18,
   "metadata": {},
   "outputs": [
    {
     "name": "stdout",
     "output_type": "stream",
     "text": [
      "Found 68 images belonging to 5 classes.\n",
      "Found 68 images belonging to 5 classes.\n"
     ]
    }
   ],
   "source": [
    "batch_size = 32\n",
    "image_size = (224, 224)\n",
    "\n",
    "train_data_dir = \"data\"\n",
    "validation_data_dir = \"data\"\n",
    "\n",
    "train_datagen = ImageDataGenerator(\n",
    "    rescale=1./255,\n",
    "    shear_range=0.2,\n",
    "    zoom_range=0.2,\n",
    "    horizontal_flip=True)\n",
    "\n",
    "validation_datagen = ImageDataGenerator(rescale=1./255)\n",
    "\n",
    "train_generator = train_datagen.flow_from_directory(\n",
    "    train_data_dir,\n",
    "    target_size=image_size,\n",
    "    batch_size=batch_size,\n",
    "    class_mode='categorical')\n",
    "\n",
    "validation_generator = validation_datagen.flow_from_directory(\n",
    "    validation_data_dir,\n",
    "    target_size=image_size,\n",
    "    batch_size=batch_size,\n",
    "    class_mode='categorical')"
   ]
  },
  {
   "cell_type": "code",
   "execution_count": 19,
   "id": "06723fdd",
   "metadata": {},
   "outputs": [],
   "source": [
    "model = Sequential()\n",
    "model.add(Conv2D(32, (3, 3), activation='relu', input_shape=(224, 224, 3)))\n",
    "model.add(MaxPooling2D((2, 2)))\n",
    "model.add(Conv2D(64, (3, 3), activation='relu'))\n",
    "model.add(MaxPooling2D((2, 2)))\n",
    "model.add(Conv2D(128, (3, 3), activation='relu'))\n",
    "model.add(MaxPooling2D((2, 2)))\n",
    "model.add(Conv2D(256, (3, 3), activation='relu'))\n",
    "model.add(MaxPooling2D((2, 2)))\n",
    "model.add(Flatten())\n",
    "model.add(Dense(512, activation='relu'))\n",
    "model.add(Dropout(0.5))\n",
    "model.add(Dense(5, activation='softmax'))"
   ]
  },
  {
   "cell_type": "code",
   "execution_count": 20,
   "id": "cdbae9c5",
   "metadata": {},
   "outputs": [],
   "source": [
    "model.compile(optimizer='adam', loss='categorical_crossentropy', metrics=['accuracy'])"
   ]
  },
  {
   "cell_type": "code",
   "execution_count": 21,
   "id": "c5c5e129",
   "metadata": {},
   "outputs": [
    {
     "name": "stdout",
     "output_type": "stream",
     "text": [
      "Epoch 1/35\n",
      "3/3 [==============================] - 14s 6s/step - loss: 2.3009 - accuracy: 0.2206 - val_loss: 1.6288 - val_accuracy: 0.2059\n",
      "Epoch 2/35\n",
      "3/3 [==============================] - 10s 3s/step - loss: 1.6306 - accuracy: 0.2206 - val_loss: 1.6011 - val_accuracy: 0.2353\n",
      "Epoch 3/35\n",
      "3/3 [==============================] - 11s 4s/step - loss: 1.6166 - accuracy: 0.2206 - val_loss: 1.5980 - val_accuracy: 0.1912\n",
      "Epoch 4/35\n",
      "3/3 [==============================] - 10s 3s/step - loss: 1.6036 - accuracy: 0.1765 - val_loss: 1.5935 - val_accuracy: 0.1912\n",
      "Epoch 5/35\n",
      "3/3 [==============================] - 10s 3s/step - loss: 1.5944 - accuracy: 0.1912 - val_loss: 1.5823 - val_accuracy: 0.3676\n",
      "Epoch 6/35\n",
      "3/3 [==============================] - 10s 3s/step - loss: 1.5762 - accuracy: 0.2941 - val_loss: 1.5667 - val_accuracy: 0.2794\n",
      "Epoch 7/35\n",
      "3/3 [==============================] - 10s 5s/step - loss: 1.6560 - accuracy: 0.1618 - val_loss: 1.5859 - val_accuracy: 0.1618\n",
      "Epoch 8/35\n",
      "3/3 [==============================] - 10s 5s/step - loss: 1.5912 - accuracy: 0.1765 - val_loss: 1.5610 - val_accuracy: 0.2941\n",
      "Epoch 9/35\n",
      "3/3 [==============================] - 10s 4s/step - loss: 1.5647 - accuracy: 0.3529 - val_loss: 1.5211 - val_accuracy: 0.3529\n",
      "Epoch 10/35\n",
      "3/3 [==============================] - 10s 3s/step - loss: 1.5241 - accuracy: 0.3235 - val_loss: 1.4613 - val_accuracy: 0.3824\n",
      "Epoch 11/35\n",
      "3/3 [==============================] - 10s 4s/step - loss: 1.4568 - accuracy: 0.3971 - val_loss: 1.3663 - val_accuracy: 0.4118\n",
      "Epoch 12/35\n",
      "3/3 [==============================] - 10s 4s/step - loss: 1.4924 - accuracy: 0.3382 - val_loss: 1.3669 - val_accuracy: 0.3971\n",
      "Epoch 13/35\n",
      "3/3 [==============================] - 10s 5s/step - loss: 1.3642 - accuracy: 0.3824 - val_loss: 1.2456 - val_accuracy: 0.5294\n",
      "Epoch 14/35\n",
      "3/3 [==============================] - 10s 3s/step - loss: 1.3840 - accuracy: 0.3971 - val_loss: 1.1436 - val_accuracy: 0.5000\n",
      "Epoch 15/35\n",
      "3/3 [==============================] - 10s 3s/step - loss: 1.2109 - accuracy: 0.5735 - val_loss: 1.0698 - val_accuracy: 0.6029\n",
      "Epoch 16/35\n",
      "3/3 [==============================] - 10s 3s/step - loss: 1.2191 - accuracy: 0.5000 - val_loss: 0.9705 - val_accuracy: 0.6912\n",
      "Epoch 17/35\n",
      "3/3 [==============================] - 10s 3s/step - loss: 1.2392 - accuracy: 0.4706 - val_loss: 1.0897 - val_accuracy: 0.5735\n",
      "Epoch 18/35\n",
      "3/3 [==============================] - 10s 3s/step - loss: 1.2043 - accuracy: 0.5147 - val_loss: 0.9648 - val_accuracy: 0.6471\n",
      "Epoch 19/35\n",
      "3/3 [==============================] - 10s 4s/step - loss: 1.2201 - accuracy: 0.5735 - val_loss: 0.7777 - val_accuracy: 0.6765\n",
      "Epoch 20/35\n",
      "3/3 [==============================] - 10s 3s/step - loss: 1.0381 - accuracy: 0.6324 - val_loss: 0.7600 - val_accuracy: 0.7353\n",
      "Epoch 21/35\n",
      "3/3 [==============================] - 10s 4s/step - loss: 1.0222 - accuracy: 0.5588 - val_loss: 0.7741 - val_accuracy: 0.7206\n",
      "Epoch 22/35\n",
      "3/3 [==============================] - 9s 4s/step - loss: 1.0329 - accuracy: 0.5735 - val_loss: 0.7264 - val_accuracy: 0.7647\n",
      "Epoch 23/35\n",
      "3/3 [==============================] - 9s 4s/step - loss: 0.9541 - accuracy: 0.6029 - val_loss: 0.6355 - val_accuracy: 0.8235\n",
      "Epoch 24/35\n",
      "3/3 [==============================] - 10s 3s/step - loss: 0.8391 - accuracy: 0.6912 - val_loss: 0.5976 - val_accuracy: 0.7500\n",
      "Epoch 25/35\n",
      "3/3 [==============================] - 10s 4s/step - loss: 0.8580 - accuracy: 0.7353 - val_loss: 0.5895 - val_accuracy: 0.8088\n",
      "Epoch 26/35\n",
      "3/3 [==============================] - 10s 3s/step - loss: 0.6260 - accuracy: 0.7794 - val_loss: 0.5019 - val_accuracy: 0.8824\n",
      "Epoch 27/35\n",
      "3/3 [==============================] - 10s 3s/step - loss: 0.5907 - accuracy: 0.8529 - val_loss: 0.4491 - val_accuracy: 0.8824\n",
      "Epoch 28/35\n",
      "3/3 [==============================] - 10s 4s/step - loss: 0.6666 - accuracy: 0.7500 - val_loss: 0.4549 - val_accuracy: 0.8088\n",
      "Epoch 29/35\n",
      "3/3 [==============================] - 10s 3s/step - loss: 0.6023 - accuracy: 0.8088 - val_loss: 0.3794 - val_accuracy: 0.8971\n",
      "Epoch 30/35\n",
      "3/3 [==============================] - 10s 3s/step - loss: 0.6579 - accuracy: 0.7941 - val_loss: 0.3144 - val_accuracy: 0.8971\n",
      "Epoch 31/35\n",
      "3/3 [==============================] - 10s 3s/step - loss: 0.4553 - accuracy: 0.8676 - val_loss: 0.3025 - val_accuracy: 0.9412\n",
      "Epoch 32/35\n",
      "3/3 [==============================] - 10s 4s/step - loss: 0.5781 - accuracy: 0.7647 - val_loss: 0.3515 - val_accuracy: 0.8676\n",
      "Epoch 33/35\n",
      "3/3 [==============================] - 10s 4s/step - loss: 0.6433 - accuracy: 0.8088 - val_loss: 0.3187 - val_accuracy: 0.8971\n",
      "Epoch 34/35\n",
      "3/3 [==============================] - 10s 3s/step - loss: 0.6214 - accuracy: 0.8235 - val_loss: 0.3810 - val_accuracy: 0.8676\n",
      "Epoch 35/35\n",
      "3/3 [==============================] - 10s 4s/step - loss: 0.4514 - accuracy: 0.8676 - val_loss: 0.3574 - val_accuracy: 0.8824\n"
     ]
    }
   ],
   "source": [
    "epochs = 35\n",
    "history = model.fit(\n",
    "    train_generator,\n",
    "    steps_per_epoch=len(train_generator),\n",
    "    epochs=epochs,\n",
    "    validation_data=validation_generator,\n",
    "    validation_steps=len(validation_generator))"
   ]
  },
  {
   "cell_type": "code",
   "execution_count": 22,
   "id": "7fff5fea",
   "metadata": {},
   "outputs": [
    {
     "name": "stdout",
     "output_type": "stream",
     "text": [
      "Found 68 images belonging to 5 classes.\n",
      "3/3 [==============================] - 2s 501ms/step - loss: 0.3574 - accuracy: 0.8824\n",
      "Test accuracy: 0.8823529481887817\n"
     ]
    }
   ],
   "source": [
    "test_data_dir = \"data\"\n",
    "test_datagen = ImageDataGenerator(rescale=1./255)\n",
    "test_generator = test_datagen.flow_from_directory(\n",
    "    test_data_dir,\n",
    "    target_size=image_size,\n",
    "    batch_size=batch_size,\n",
    "    class_mode='categorical')\n",
    "test_loss, test_acc = model.evaluate(test_generator, steps=len(test_generator))\n",
    "print('Test accuracy:', test_acc)"
   ]
  },
  {
   "cell_type": "code",
   "execution_count": 23,
   "id": "b501f574",
   "metadata": {},
   "outputs": [],
   "source": [
    "# import numpy as np\n",
    "# from tensorflow.keras.preprocessing import image\n",
    "\n",
    "# img_path = \"rec.jpg\"\n",
    "# img = image.load_img(img_path, target_size=image_size)\n",
    "# img_tensor = image.img_to_array(img)\n",
    "# img_tensor /= 255.\n",
    "# img_tensor = np.expand_dims(img_tensor, axis=0)\n",
    "# prediction = model.predict(img_tensor)[0]\n",
    "# class_names = ['hourglass', 'inverted triangle', 'pear', 'rectangle', 'spoon']\n",
    "# predicted_class = class_names[np.argmax(prediction)]\n",
    "# print(\"Predicted class:\", predicted_class)"
   ]
  },
  {
   "cell_type": "code",
   "execution_count": 24,
   "id": "23bc6251",
   "metadata": {},
   "outputs": [],
   "source": [
    "model.save('fitshapelk.h5')"
   ]
  },
  {
   "cell_type": "code",
   "execution_count": null,
   "id": "e47a8525",
   "metadata": {},
   "outputs": [],
   "source": []
  }
 ],
 "metadata": {
  "kernelspec": {
   "display_name": "Python 3 (ipykernel)",
   "language": "python",
   "name": "python3"
  },
  "language_info": {
   "codemirror_mode": {
    "name": "ipython",
    "version": 3
   },
   "file_extension": ".py",
   "mimetype": "text/x-python",
   "name": "python",
   "nbconvert_exporter": "python",
   "pygments_lexer": "ipython3",
   "version": "3.11.3"
  }
 },
 "nbformat": 4,
 "nbformat_minor": 5
}
