{
 "cells": [
  {
   "cell_type": "code",
   "execution_count": 1,
   "id": "355eaa94",
   "metadata": {},
   "outputs": [],
   "source": [
    "# Import necessary libraries\n",
    "\n",
    "import tensorflow as tf\n",
    "import os\n",
    "from tensorflow.keras.preprocessing.image import ImageDataGenerator\n",
    "from tensorflow.keras.models import Sequential\n",
    "from tensorflow.keras.layers import Dense, Conv2D, MaxPooling2D, Dropout, Flatten"
   ]
  },
  {
   "cell_type": "code",
   "execution_count": 2,
   "metadata": {},
   "outputs": [
    {
     "name": "stdout",
     "output_type": "stream",
     "text": [
      "Found 68 images belonging to 5 classes.\n",
      "Found 68 images belonging to 5 classes.\n"
     ]
    }
   ],
   "source": [
    "batch_size = 32\n",
    "image_size = (224, 224)\n",
    "\n",
    "train_data_dir = \"data\"\n",
    "validation_data_dir = \"data\"\n",
    "\n",
    "train_datagen = ImageDataGenerator(\n",
    "    rescale=1./255,\n",
    "    shear_range=0.2,\n",
    "    zoom_range=0.2,\n",
    "    horizontal_flip=True)\n",
    "\n",
    "validation_datagen = ImageDataGenerator(rescale=1./255)\n",
    "\n",
    "train_generator = train_datagen.flow_from_directory(\n",
    "    train_data_dir,\n",
    "    target_size=image_size,\n",
    "    batch_size=batch_size,\n",
    "    class_mode='categorical')\n",
    "\n",
    "validation_generator = validation_datagen.flow_from_directory(\n",
    "    validation_data_dir,\n",
    "    target_size=image_size,\n",
    "    batch_size=batch_size,\n",
    "    class_mode='categorical')"
   ]
  },
  {
   "cell_type": "code",
   "execution_count": 3,
   "id": "06723fdd",
   "metadata": {},
   "outputs": [],
   "source": [
    "model = Sequential()\n",
    "model.add(Conv2D(32, (3, 3), activation='relu', input_shape=(224, 224, 3)))\n",
    "model.add(MaxPooling2D((2, 2)))\n",
    "model.add(Conv2D(64, (3, 3), activation='relu'))\n",
    "model.add(MaxPooling2D((2, 2)))\n",
    "model.add(Conv2D(128, (3, 3), activation='relu'))\n",
    "model.add(MaxPooling2D((2, 2)))\n",
    "model.add(Conv2D(256, (3, 3), activation='relu'))\n",
    "model.add(MaxPooling2D((2, 2)))\n",
    "model.add(Flatten())\n",
    "model.add(Dense(512, activation='relu'))\n",
    "model.add(Dropout(0.5))\n",
    "model.add(Dense(5, activation='softmax'))"
   ]
  },
  {
   "cell_type": "code",
   "execution_count": 4,
   "id": "cdbae9c5",
   "metadata": {},
   "outputs": [],
   "source": [
    "model.compile(optimizer='adam', loss='categorical_crossentropy', metrics=['accuracy'])"
   ]
  },
  {
   "cell_type": "code",
   "execution_count": 5,
   "id": "c5c5e129",
   "metadata": {},
   "outputs": [
    {
     "name": "stdout",
     "output_type": "stream",
     "text": [
      "Epoch 1/35\n",
      "3/3 [==============================] - 22s 6s/step - loss: 2.7316 - accuracy: 0.2206 - val_loss: 1.7514 - val_accuracy: 0.3529\n",
      "Epoch 2/35\n",
      "3/3 [==============================] - 10s 5s/step - loss: 1.6743 - accuracy: 0.1912 - val_loss: 1.6067 - val_accuracy: 0.1618\n",
      "Epoch 3/35\n",
      "3/3 [==============================] - 10s 4s/step - loss: 1.6271 - accuracy: 0.2206 - val_loss: 1.5882 - val_accuracy: 0.3235\n",
      "Epoch 4/35\n",
      "3/3 [==============================] - 10s 3s/step - loss: 1.6007 - accuracy: 0.2353 - val_loss: 1.5719 - val_accuracy: 0.2794\n",
      "Epoch 5/35\n",
      "3/3 [==============================] - 11s 3s/step - loss: 1.5817 - accuracy: 0.2794 - val_loss: 1.5803 - val_accuracy: 0.1765\n",
      "Epoch 6/35\n",
      "3/3 [==============================] - 10s 3s/step - loss: 1.5796 - accuracy: 0.1765 - val_loss: 1.5813 - val_accuracy: 0.1765\n",
      "Epoch 7/35\n",
      "3/3 [==============================] - 10s 3s/step - loss: 1.5888 - accuracy: 0.1765 - val_loss: 1.5720 - val_accuracy: 0.3235\n",
      "Epoch 8/35\n",
      "3/3 [==============================] - 10s 3s/step - loss: 1.5778 - accuracy: 0.2794 - val_loss: 1.5289 - val_accuracy: 0.3676\n",
      "Epoch 9/35\n",
      "3/3 [==============================] - 10s 3s/step - loss: 1.5823 - accuracy: 0.3088 - val_loss: 1.5068 - val_accuracy: 0.3088\n",
      "Epoch 10/35\n",
      "3/3 [==============================] - 10s 5s/step - loss: 1.5339 - accuracy: 0.2941 - val_loss: 1.4607 - val_accuracy: 0.3382\n",
      "Epoch 11/35\n",
      "3/3 [==============================] - 10s 3s/step - loss: 1.4960 - accuracy: 0.3382 - val_loss: 1.4049 - val_accuracy: 0.4706\n",
      "Epoch 12/35\n",
      "3/3 [==============================] - 10s 3s/step - loss: 1.4651 - accuracy: 0.3676 - val_loss: 1.3203 - val_accuracy: 0.5294\n",
      "Epoch 13/35\n",
      "3/3 [==============================] - 9s 4s/step - loss: 1.3767 - accuracy: 0.4559 - val_loss: 1.3436 - val_accuracy: 0.4559\n",
      "Epoch 14/35\n",
      "3/3 [==============================] - 10s 3s/step - loss: 1.4203 - accuracy: 0.3971 - val_loss: 1.3191 - val_accuracy: 0.4853\n",
      "Epoch 15/35\n",
      "3/3 [==============================] - 10s 3s/step - loss: 1.3418 - accuracy: 0.4265 - val_loss: 1.2931 - val_accuracy: 0.4853\n",
      "Epoch 16/35\n",
      "3/3 [==============================] - 10s 3s/step - loss: 1.3978 - accuracy: 0.3971 - val_loss: 1.1980 - val_accuracy: 0.4853\n",
      "Epoch 17/35\n",
      "3/3 [==============================] - 10s 3s/step - loss: 1.3768 - accuracy: 0.5441 - val_loss: 1.2255 - val_accuracy: 0.5441\n",
      "Epoch 18/35\n",
      "3/3 [==============================] - 10s 4s/step - loss: 1.3402 - accuracy: 0.4706 - val_loss: 1.0458 - val_accuracy: 0.5735\n",
      "Epoch 19/35\n",
      "3/3 [==============================] - 10s 3s/step - loss: 1.1871 - accuracy: 0.4853 - val_loss: 1.0395 - val_accuracy: 0.6176\n",
      "Epoch 20/35\n",
      "3/3 [==============================] - 10s 3s/step - loss: 1.1864 - accuracy: 0.5000 - val_loss: 0.9642 - val_accuracy: 0.6324\n",
      "Epoch 21/35\n",
      "3/3 [==============================] - 10s 3s/step - loss: 1.2365 - accuracy: 0.5882 - val_loss: 0.8998 - val_accuracy: 0.6029\n",
      "Epoch 22/35\n",
      "3/3 [==============================] - 9s 4s/step - loss: 1.1133 - accuracy: 0.5735 - val_loss: 1.0259 - val_accuracy: 0.5882\n",
      "Epoch 23/35\n",
      "3/3 [==============================] - 10s 3s/step - loss: 1.1922 - accuracy: 0.5588 - val_loss: 0.9635 - val_accuracy: 0.6324\n",
      "Epoch 24/35\n",
      "3/3 [==============================] - 10s 3s/step - loss: 1.0178 - accuracy: 0.6324 - val_loss: 0.7931 - val_accuracy: 0.7794\n",
      "Epoch 25/35\n",
      "3/3 [==============================] - 10s 3s/step - loss: 0.9839 - accuracy: 0.6471 - val_loss: 0.8407 - val_accuracy: 0.6912\n",
      "Epoch 26/35\n",
      "3/3 [==============================] - 10s 3s/step - loss: 1.0514 - accuracy: 0.6618 - val_loss: 0.6810 - val_accuracy: 0.8088\n",
      "Epoch 27/35\n",
      "3/3 [==============================] - 10s 4s/step - loss: 0.8927 - accuracy: 0.6324 - val_loss: 0.8832 - val_accuracy: 0.7206\n",
      "Epoch 28/35\n",
      "3/3 [==============================] - 10s 4s/step - loss: 0.9545 - accuracy: 0.6912 - val_loss: 0.6106 - val_accuracy: 0.7941\n",
      "Epoch 29/35\n",
      "3/3 [==============================] - 10s 3s/step - loss: 0.9344 - accuracy: 0.6765 - val_loss: 0.6907 - val_accuracy: 0.7500\n",
      "Epoch 30/35\n",
      "3/3 [==============================] - 10s 3s/step - loss: 0.9668 - accuracy: 0.6176 - val_loss: 0.6906 - val_accuracy: 0.8088\n",
      "Epoch 31/35\n",
      "3/3 [==============================] - 10s 4s/step - loss: 0.9354 - accuracy: 0.6471 - val_loss: 0.5575 - val_accuracy: 0.8235\n",
      "Epoch 32/35\n",
      "3/3 [==============================] - 10s 4s/step - loss: 0.8909 - accuracy: 0.6324 - val_loss: 0.4060 - val_accuracy: 0.8235\n",
      "Epoch 33/35\n",
      "3/3 [==============================] - 10s 4s/step - loss: 0.7083 - accuracy: 0.7353 - val_loss: 0.3701 - val_accuracy: 0.8382\n",
      "Epoch 34/35\n",
      "3/3 [==============================] - 10s 3s/step - loss: 0.6360 - accuracy: 0.7647 - val_loss: 0.4138 - val_accuracy: 0.8088\n",
      "Epoch 35/35\n",
      "3/3 [==============================] - 10s 3s/step - loss: 0.6498 - accuracy: 0.7500 - val_loss: 0.4358 - val_accuracy: 0.8235\n"
     ]
    }
   ],
   "source": [
    "epochs = 35\n",
    "history = model.fit(\n",
    "    train_generator,\n",
    "    steps_per_epoch=len(train_generator),\n",
    "    epochs=epochs,\n",
    "    validation_data=validation_generator,\n",
    "    validation_steps=len(validation_generator))"
   ]
  },
  {
   "cell_type": "code",
   "execution_count": 6,
   "id": "7fff5fea",
   "metadata": {},
   "outputs": [
    {
     "name": "stdout",
     "output_type": "stream",
     "text": [
      "Found 68 images belonging to 5 classes.\n",
      "3/3 [==============================] - 2s 460ms/step - loss: 0.4358 - accuracy: 0.8235\n",
      "Test accuracy: 0.8235294222831726\n"
     ]
    }
   ],
   "source": [
    "test_data_dir = \"data\"\n",
    "test_datagen = ImageDataGenerator(rescale=1./255)\n",
    "test_generator = test_datagen.flow_from_directory(\n",
    "    test_data_dir,\n",
    "    target_size=image_size,\n",
    "    batch_size=batch_size,\n",
    "    class_mode='categorical')\n",
    "test_loss, test_acc = model.evaluate(test_generator, steps=len(test_generator))\n",
    "print('Test accuracy:', test_acc)"
   ]
  },
  {
   "cell_type": "code",
   "execution_count": 7,
   "id": "b501f574",
   "metadata": {},
   "outputs": [],
   "source": [
    "# import numpy as np\n",
    "# from tensorflow.keras.preprocessing import image\n",
    "\n",
    "# img_path = \"rec.jpg\"\n",
    "# img = image.load_img(img_path, target_size=image_size)\n",
    "# img_tensor = image.img_to_array(img)\n",
    "# img_tensor /= 255.\n",
    "# img_tensor = np.expand_dims(img_tensor, axis=0)\n",
    "# prediction = model.predict(img_tensor)[0]\n",
    "# class_names = ['hourglass', 'inverted triangle', 'pear', 'rectangle', 'spoon']\n",
    "# predicted_class = class_names[np.argmax(prediction)]\n",
    "# print(\"Predicted class:\", predicted_class)"
   ]
  },
  {
   "cell_type": "code",
   "execution_count": 8,
   "id": "23bc6251",
   "metadata": {},
   "outputs": [],
   "source": [
    "model.save('fitshapelk.h5')"
   ]
  },
  {
   "cell_type": "code",
   "execution_count": null,
   "id": "e47a8525",
   "metadata": {},
   "outputs": [],
   "source": []
  }
 ],
 "metadata": {
  "kernelspec": {
   "display_name": "Python 3 (ipykernel)",
   "language": "python",
   "name": "python3"
  },
  "language_info": {
   "codemirror_mode": {
    "name": "ipython",
    "version": 3
   },
   "file_extension": ".py",
   "mimetype": "text/x-python",
   "name": "python",
   "nbconvert_exporter": "python",
   "pygments_lexer": "ipython3",
   "version": "3.11.3"
  }
 },
 "nbformat": 4,
 "nbformat_minor": 5
}
